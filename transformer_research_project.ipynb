{
  "nbformat": 4,
  "nbformat_minor": 0,
  "metadata": {
    "colab": {
      "provenance": [],
      "authorship_tag": "ABX9TyMBFLJfEMckGPO3XOpwX9xi",
      "include_colab_link": true
    },
    "kernelspec": {
      "name": "python3",
      "display_name": "Python 3"
    },
    "language_info": {
      "name": "python"
    }
  },
  "cells": [
    {
      "cell_type": "markdown",
      "metadata": {
        "id": "view-in-github",
        "colab_type": "text"
      },
      "source": [
        "<a href=\"https://colab.research.google.com/github/benzionchen/transformer_NLP_research/blob/main/transformer_research_project.ipynb\" target=\"_parent\"><img src=\"https://colab.research.google.com/assets/colab-badge.svg\" alt=\"Open In Colab\"/></a>"
      ]
    },
    {
      "cell_type": "code",
      "execution_count": 1,
      "metadata": {
        "colab": {
          "base_uri": "https://localhost:8080/"
        },
        "id": "g7-3txNDjbX9",
        "outputId": "990e2a96-584b-4e0e-f6ae-5b135c4965dc"
      },
      "outputs": [
        {
          "output_type": "stream",
          "name": "stdout",
          "text": [
            "hello world\n"
          ]
        }
      ],
      "source": [
        "print('hello world')"
      ]
    },
    {
      "cell_type": "markdown",
      "source": [
        "The goal is for you to practice:\n",
        "\n",
        "- Picking a dataset (and possibly trying more than one).\n",
        "- Selecting different pretrained models from the Hugging Face Hub.\n",
        "- Measuring performance (accuracy, F1, etc.) and comparing your results.\n",
        "- Doing a brief error analysis to see where each model struggles."
      ],
      "metadata": {
        "id": "Wp1Z6WIbjyIN"
      }
    },
    {
      "cell_type": "code",
      "source": [],
      "metadata": {
        "id": "dlwIqTopjyhu"
      },
      "execution_count": null,
      "outputs": []
    }
  ]
}